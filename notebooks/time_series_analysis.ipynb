{
 "cells": [
  {
   "cell_type": "code",
   "execution_count": 1,
   "id": "41314276-6983-41ec-a4bc-9202a4c99144",
   "metadata": {},
   "outputs": [],
   "source": [
    "import pandas as pd\n",
    "import matplotlib.pyplot as plt\n",
    "import seaborn as sns\n"
   ]
  },
  {
   "cell_type": "code",
   "execution_count": 3,
   "id": "74b91a9e-7b8f-4d19-bfda-e3b0d6ea10db",
   "metadata": {},
   "outputs": [
    {
     "name": "stdout",
     "output_type": "stream",
     "text": [
      "Number of missing dates after parsing: 1351341\n"
     ]
    },
    {
     "data": {
      "text/html": [
       "<div>\n",
       "<style scoped>\n",
       "    .dataframe tbody tr th:only-of-type {\n",
       "        vertical-align: middle;\n",
       "    }\n",
       "\n",
       "    .dataframe tbody tr th {\n",
       "        vertical-align: top;\n",
       "    }\n",
       "\n",
       "    .dataframe thead th {\n",
       "        text-align: right;\n",
       "    }\n",
       "</style>\n",
       "<table border=\"1\" class=\"dataframe\">\n",
       "  <thead>\n",
       "    <tr style=\"text-align: right;\">\n",
       "      <th></th>\n",
       "      <th>Unnamed: 0</th>\n",
       "      <th>headline</th>\n",
       "      <th>url</th>\n",
       "      <th>publisher</th>\n",
       "      <th>date</th>\n",
       "      <th>stock</th>\n",
       "    </tr>\n",
       "  </thead>\n",
       "  <tbody>\n",
       "    <tr>\n",
       "      <th>0</th>\n",
       "      <td>0</td>\n",
       "      <td>Stocks That Hit 52-Week Highs On Friday</td>\n",
       "      <td>https://www.benzinga.com/news/20/06/16190091/s...</td>\n",
       "      <td>Benzinga Insights</td>\n",
       "      <td>2020-06-05 10:30:54-04:00</td>\n",
       "      <td>A</td>\n",
       "    </tr>\n",
       "    <tr>\n",
       "      <th>1</th>\n",
       "      <td>1</td>\n",
       "      <td>Stocks That Hit 52-Week Highs On Wednesday</td>\n",
       "      <td>https://www.benzinga.com/news/20/06/16170189/s...</td>\n",
       "      <td>Benzinga Insights</td>\n",
       "      <td>2020-06-03 10:45:20-04:00</td>\n",
       "      <td>A</td>\n",
       "    </tr>\n",
       "    <tr>\n",
       "      <th>2</th>\n",
       "      <td>2</td>\n",
       "      <td>71 Biggest Movers From Friday</td>\n",
       "      <td>https://www.benzinga.com/news/20/05/16103463/7...</td>\n",
       "      <td>Lisa Levin</td>\n",
       "      <td>2020-05-26 04:30:07-04:00</td>\n",
       "      <td>A</td>\n",
       "    </tr>\n",
       "  </tbody>\n",
       "</table>\n",
       "</div>"
      ],
      "text/plain": [
       "   Unnamed: 0                                    headline  \\\n",
       "0           0     Stocks That Hit 52-Week Highs On Friday   \n",
       "1           1  Stocks That Hit 52-Week Highs On Wednesday   \n",
       "2           2               71 Biggest Movers From Friday   \n",
       "\n",
       "                                                 url          publisher  \\\n",
       "0  https://www.benzinga.com/news/20/06/16190091/s...  Benzinga Insights   \n",
       "1  https://www.benzinga.com/news/20/06/16170189/s...  Benzinga Insights   \n",
       "2  https://www.benzinga.com/news/20/05/16103463/7...         Lisa Levin   \n",
       "\n",
       "                       date stock  \n",
       "0 2020-06-05 10:30:54-04:00     A  \n",
       "1 2020-06-03 10:45:20-04:00     A  \n",
       "2 2020-05-26 04:30:07-04:00     A  "
      ]
     },
     "execution_count": 3,
     "metadata": {},
     "output_type": "execute_result"
    }
   ],
   "source": [
    "# Load the data\n",
    "df = pd.read_csv('../data/raw_analyst_ratings.csv')\n",
    "\n",
    "# Convert the 'date' column to datetime format, handling inconsistent formats\n",
    "df['date'] = pd.to_datetime(df['date'], errors='coerce')\n",
    "\n",
    "# Check for any NaT values that could not be parsed\n",
    "missing_dates = df['date'].isna().sum()\n",
    "print(f\"Number of missing dates after parsing: {missing_dates}\")\n",
    "\n",
    "# Display the first few rows to confirm\n",
    "df.head(3)\n"
   ]
  },
  {
   "cell_type": "code",
   "execution_count": null,
   "id": "5f22c157-a3fe-445a-bcb6-d9e655a63508",
   "metadata": {},
   "outputs": [],
   "source": [
    "# Aggregate the data by date to count the number of articles published each day\n",
    "df['publication_date'] = df['date'].dt.date\n",
    "daily_publications = df.groupby('publication_date').size()\n",
    "\n",
    "# Plot the publication frequency over time\n",
    "plt.figure(figsize=(14, 7))\n",
    "plt.plot(daily_publications.index, daily_publications.values, color='blue', linestyle='-', marker='o')\n",
    "plt.title('Publication Frequency Over Time')\n",
    "plt.xlabel('Date')\n",
    "plt.ylabel('Number of Articles Published')\n",
    "plt.grid(True)\n",
    "plt.show()\n"
   ]
  },
  {
   "cell_type": "code",
   "execution_count": null,
   "id": "ffa8e9b7-785b-4377-bb66-e0fa50634e78",
   "metadata": {},
   "outputs": [],
   "source": [
    "# Calculate the rolling mean to smooth the time series\n",
    "rolling_mean = daily_publications.rolling(window=7).mean()\n",
    "\n",
    "# Plot the original data and the rolling mean\n",
    "plt.figure(figsize=(14, 7))\n",
    "plt.plot(daily_publications.index, daily_publications.values, color='lightblue', linestyle='-', marker='o', label='Daily Publications')\n",
    "plt.plot(daily_publications.index, rolling_mean, color='red', linestyle='-', label='7-Day Rolling Mean')\n",
    "plt.title('Publication Frequency Over Time with Rolling Mean')\n",
    "plt.xlabel('Date')\n",
    "plt.ylabel('Number of Articles Published')\n",
    "plt.axvline(pd.to_datetime(\"2020-03-01\"), color='green', linestyle='--', label='Significant Market Event')\n",
    "plt.legend()\n",
    "plt.grid(True)\n",
    "plt.show()\n"
   ]
  },
  {
   "cell_type": "code",
   "execution_count": null,
   "id": "96cbd543-1c7a-406e-b68b-03b7aa9d3ff5",
   "metadata": {},
   "outputs": [],
   "source": [
    "# Extract the hour from the date column\n",
    "df['publication_hour'] = df['date'].dt.hour\n",
    "\n",
    "# Aggregate the data by hour to count the number of articles published at each hour\n",
    "hourly_publications = df.groupby('publication_hour').size()\n",
    "\n",
    "# Plot the publication frequency by hour of the day\n",
    "plt.figure(figsize=(14, 7))\n",
    "sns.barplot(x=hourly_publications.index, y=hourly_publications.values, palette='viridis')\n",
    "plt.title('Publication Frequency by Hour of the Day')\n",
    "plt.xlabel('Hour of the Day')\n",
    "plt.ylabel('Number of Articles Published')\n",
    "plt.grid(True)\n",
    "plt.show()\n"
   ]
  },
  {
   "cell_type": "code",
   "execution_count": null,
   "id": "ed73209b-309a-42e8-ad35-326e3bc98119",
   "metadata": {},
   "outputs": [],
   "source": []
  }
 ],
 "metadata": {
  "kernelspec": {
   "display_name": "Python 3 (ipykernel)",
   "language": "python",
   "name": "python3"
  },
  "language_info": {
   "codemirror_mode": {
    "name": "ipython",
    "version": 3
   },
   "file_extension": ".py",
   "mimetype": "text/x-python",
   "name": "python",
   "nbconvert_exporter": "python",
   "pygments_lexer": "ipython3",
   "version": "3.9.19"
  }
 },
 "nbformat": 4,
 "nbformat_minor": 5
}
